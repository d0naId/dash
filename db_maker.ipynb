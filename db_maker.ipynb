{
 "cells": [
  {
   "cell_type": "code",
   "execution_count": 1,
   "metadata": {},
   "outputs": [],
   "source": [
    "import pandas as pd\n",
    "import numpy as np\n",
    "import sqlite3 as sq\n",
    "import os\n",
    "import re"
   ]
  },
  {
   "cell_type": "markdown",
   "metadata": {},
   "source": [
    "# КЛИЕНТЫ ГЛК 2017"
   ]
  },
  {
   "cell_type": "code",
   "execution_count": 2,
   "metadata": {
    "scrolled": false
   },
   "outputs": [],
   "source": [
    "t = open('data_raw/Аналитика_1/КЛИЕНТЫ ГЛК 2017.txt', encoding='cp1251').read()\n",
    "t = t.split('\\n')\n",
    "t = np.array(t)"
   ]
  },
  {
   "cell_type": "code",
   "execution_count": 3,
   "metadata": {},
   "outputs": [],
   "source": [
    "arr = []\n",
    "for i in t:\n",
    "    arr.append(np.array(i.split(',')))"
   ]
  },
  {
   "cell_type": "code",
   "execution_count": 4,
   "metadata": {},
   "outputs": [],
   "source": [
    "df = pd.DataFrame(arr[1:], columns=['Ид клиента', 'Фамилия', 'Имя', 'Отчество', 'Дата рождения', 'Пол','F1', 'F2'])"
   ]
  },
  {
   "cell_type": "code",
   "execution_count": 6,
   "metadata": {
    "scrolled": true
   },
   "outputs": [],
   "source": [
    "clients_glk = df[df.F1.isnull()].drop(['F1','F2'], axis=1)"
   ]
  },
  {
   "cell_type": "code",
   "execution_count": 7,
   "metadata": {
    "scrolled": true
   },
   "outputs": [
    {
     "name": "stderr",
     "output_type": "stream",
     "text": [
      "/Users/yuriysimonov/anaconda3/lib/python3.6/site-packages/pandas/core/generic.py:2127: UserWarning: The spaces in these column names will not be changed. In pandas versions < 0.14, spaces were converted to underscores.\n",
      "  dtype=dtype)\n"
     ]
    }
   ],
   "source": [
    "with sq.connect('isd_base.db') as conn:\n",
    "    clients_glk.to_sql(name='clients_glk',con=conn,schema='glk', index=False, if_exists='replace')"
   ]
  },
  {
   "cell_type": "markdown",
   "metadata": {},
   "source": [
    "# ЧЕКИ ГЛК 2017"
   ]
  },
  {
   "cell_type": "code",
   "execution_count": 28,
   "metadata": {},
   "outputs": [],
   "source": [
    "t = open('data_raw/Аналитика_1/ЧЕКИ ГЛК 2017.txt', encoding='cp1251').read()\n",
    "t = t.split('\\n')\n",
    "t = np.array(t)"
   ]
  },
  {
   "cell_type": "code",
   "execution_count": 29,
   "metadata": {},
   "outputs": [],
   "source": [
    "arr = []\n",
    "for i in t:\n",
    "    arr.append(np.array(i.split(',')))"
   ]
  },
  {
   "cell_type": "code",
   "execution_count": 34,
   "metadata": {},
   "outputs": [
    {
     "data": {
      "text/plain": [
       "array(['Ид чека', 'Тип платежа', 'Дата операции', 'Касса', 'Кассир'],\n",
       "      dtype='<U13')"
      ]
     },
     "execution_count": 34,
     "metadata": {},
     "output_type": "execute_result"
    }
   ],
   "source": [
    "arr[0]"
   ]
  },
  {
   "cell_type": "code",
   "execution_count": 44,
   "metadata": {},
   "outputs": [],
   "source": [
    "df = pd.DataFrame(arr[1:], columns=['Ид чека', 'Тип платежа', 'Дата операции', 'Касса', 'Кассир','F1'])"
   ]
  },
  {
   "cell_type": "code",
   "execution_count": 45,
   "metadata": {
    "scrolled": true
   },
   "outputs": [],
   "source": [
    "check_glk = df.drop('F1', axis=1)"
   ]
  },
  {
   "cell_type": "code",
   "execution_count": 46,
   "metadata": {},
   "outputs": [
    {
     "data": {
      "text/plain": [
       "(775140, 6)"
      ]
     },
     "execution_count": 46,
     "metadata": {},
     "output_type": "execute_result"
    }
   ],
   "source": [
    "df.shape"
   ]
  },
  {
   "cell_type": "code",
   "execution_count": 48,
   "metadata": {
    "scrolled": true
   },
   "outputs": [
    {
     "name": "stderr",
     "output_type": "stream",
     "text": [
      "/Users/yuriysimonov/anaconda3/lib/python3.6/site-packages/pandas/core/generic.py:2127: UserWarning: The spaces in these column names will not be changed. In pandas versions < 0.14, spaces were converted to underscores.\n",
      "  dtype=dtype)\n"
     ]
    }
   ],
   "source": [
    "with sq.connect('isd_base.db') as conn:\n",
    "    check_glk.to_sql(name='check_glk',con=conn,schema='glk', index=False, if_exists='replace')"
   ]
  },
  {
   "cell_type": "markdown",
   "metadata": {},
   "source": [
    "# ЧЕКИ АКВА 2017.txt"
   ]
  },
  {
   "cell_type": "code",
   "execution_count": 5,
   "metadata": {},
   "outputs": [],
   "source": [
    "t = open('data_raw/ЧЕКИ АКВА 2017.txt', encoding='cp1251').read()\n",
    "t = t.split('\\n')\n",
    "t = np.array(t)"
   ]
  },
  {
   "cell_type": "code",
   "execution_count": 6,
   "metadata": {},
   "outputs": [],
   "source": [
    "arr = []\n",
    "for i in t:\n",
    "    arr.append(np.array(i.split(',')))"
   ]
  },
  {
   "cell_type": "code",
   "execution_count": 7,
   "metadata": {},
   "outputs": [
    {
     "data": {
      "text/plain": [
       "array(['Ид чека', 'Тип платежа', 'Дата операции', 'Касса', 'Кассир'],\n",
       "      dtype='<U13')"
      ]
     },
     "execution_count": 7,
     "metadata": {},
     "output_type": "execute_result"
    }
   ],
   "source": [
    "arr[0]"
   ]
  },
  {
   "cell_type": "code",
   "execution_count": 8,
   "metadata": {},
   "outputs": [],
   "source": [
    "df = pd.DataFrame(arr[1:], columns=['Ид чека', 'Тип платежа', 'Дата операции', 'Касса', 'Кассир'])"
   ]
  },
  {
   "cell_type": "code",
   "execution_count": 10,
   "metadata": {},
   "outputs": [],
   "source": [
    "check_aqv = df"
   ]
  },
  {
   "cell_type": "code",
   "execution_count": 11,
   "metadata": {},
   "outputs": [
    {
     "data": {
      "text/plain": [
       "(350871, 5)"
      ]
     },
     "execution_count": 11,
     "metadata": {},
     "output_type": "execute_result"
    }
   ],
   "source": [
    "df.shape"
   ]
  },
  {
   "cell_type": "code",
   "execution_count": 12,
   "metadata": {},
   "outputs": [
    {
     "name": "stderr",
     "output_type": "stream",
     "text": [
      "/Users/yuriysimonov/anaconda3/lib/python3.6/site-packages/pandas/core/generic.py:2130: UserWarning: The spaces in these column names will not be changed. In pandas versions < 0.14, spaces were converted to underscores.\n",
      "  dtype=dtype)\n"
     ]
    }
   ],
   "source": [
    "with sq.connect('isd_base.db') as conn:\n",
    "    check_glk.to_sql(name='check_aqv',con=conn,schema='aqv', index=False, if_exists='replace')"
   ]
  },
  {
   "cell_type": "markdown",
   "metadata": {},
   "source": [
    "# ОРДЕР ГЛК 2017"
   ]
  },
  {
   "cell_type": "code",
   "execution_count": 60,
   "metadata": {},
   "outputs": [],
   "source": [
    "t = open('data_raw/ОРДЕР ГЛК 2017.txt', encoding='cp1251').read()\n",
    "t = t.split('\\n')\n",
    "t = np.array(t)"
   ]
  },
  {
   "cell_type": "code",
   "execution_count": 61,
   "metadata": {},
   "outputs": [],
   "source": [
    "arr = []\n",
    "for i in t:\n",
    "    arr.append(np.array(i.split(',')))"
   ]
  },
  {
   "cell_type": "code",
   "execution_count": 62,
   "metadata": {},
   "outputs": [
    {
     "data": {
      "text/plain": [
       "array(['Ид ордера', 'Ид строки чека', 'Ид клиента', 'Дата начала',\n",
       "       'Дата окончания', 'Номер носителя'], dtype='<U14')"
      ]
     },
     "execution_count": 62,
     "metadata": {},
     "output_type": "execute_result"
    }
   ],
   "source": [
    "arr[0]"
   ]
  },
  {
   "cell_type": "code",
   "execution_count": 65,
   "metadata": {},
   "outputs": [],
   "source": [
    "order_glk = pd.DataFrame(arr[1:], columns=arr[0])"
   ]
  },
  {
   "cell_type": "code",
   "execution_count": 66,
   "metadata": {},
   "outputs": [
    {
     "name": "stderr",
     "output_type": "stream",
     "text": [
      "/Users/yuriysimonov/anaconda3/lib/python3.6/site-packages/pandas/core/generic.py:2127: UserWarning: The spaces in these column names will not be changed. In pandas versions < 0.14, spaces were converted to underscores.\n",
      "  dtype=dtype)\n"
     ]
    }
   ],
   "source": [
    "with sq.connect('isd_base.db') as conn:\n",
    "    order_glk.to_sql(name='order_glk',con=conn,schema='glk', index=False, if_exists='replace')"
   ]
  },
  {
   "cell_type": "markdown",
   "metadata": {},
   "source": [
    "# КЛИЕНТЫ АКВА 2017"
   ]
  },
  {
   "cell_type": "code",
   "execution_count": 20,
   "metadata": {},
   "outputs": [],
   "source": [
    "t = open('data_raw/Analytika_2/КЛИЕНТЫ АКВА 2017.txt', encoding='cp1251').read()\n",
    "t = t.split('\\n')\n",
    "t = np.array(t)"
   ]
  },
  {
   "cell_type": "code",
   "execution_count": 21,
   "metadata": {},
   "outputs": [],
   "source": [
    "arr = []\n",
    "for i in t:\n",
    "    arr.append(np.array(i.split(',')))"
   ]
  },
  {
   "cell_type": "code",
   "execution_count": 22,
   "metadata": {},
   "outputs": [
    {
     "data": {
      "text/plain": [
       "array(['Ид клиента', 'Фамилия', 'Имя', 'Отчество', 'Дата рождения', 'Пол'],\n",
       "      dtype='<U13')"
      ]
     },
     "execution_count": 22,
     "metadata": {},
     "output_type": "execute_result"
    }
   ],
   "source": [
    "arr[0]"
   ]
  },
  {
   "cell_type": "code",
   "execution_count": 23,
   "metadata": {},
   "outputs": [],
   "source": [
    "df = pd.DataFrame(arr[1:], columns=['Ид клиента', 'Фамилия', 'Имя', 'Отчество', 'Дата рождения', 'Пол','F1'])"
   ]
  },
  {
   "cell_type": "code",
   "execution_count": 24,
   "metadata": {},
   "outputs": [],
   "source": [
    "df=df[df['F1'].isnull()]"
   ]
  },
  {
   "cell_type": "code",
   "execution_count": 26,
   "metadata": {
    "scrolled": true
   },
   "outputs": [],
   "source": [
    "clients_aqv = df"
   ]
  },
  {
   "cell_type": "code",
   "execution_count": 27,
   "metadata": {},
   "outputs": [
    {
     "name": "stderr",
     "output_type": "stream",
     "text": [
      "/Users/yuriysimonov/anaconda3/lib/python3.6/site-packages/pandas/core/generic.py:2127: UserWarning: The spaces in these column names will not be changed. In pandas versions < 0.14, spaces were converted to underscores.\n",
      "  dtype=dtype)\n"
     ]
    }
   ],
   "source": [
    "with sq.connect('isd_base.db') as conn:\n",
    "    clients_aqv.to_sql(name='clients_aqv',con=conn,schema='aqv', index=False, if_exists='replace')"
   ]
  },
  {
   "cell_type": "markdown",
   "metadata": {},
   "source": [
    "# ОРДЕР АКВА 2017"
   ]
  },
  {
   "cell_type": "code",
   "execution_count": 49,
   "metadata": {},
   "outputs": [],
   "source": [
    "t = open('data_raw/Analytika_2/ОРДЕР АКВА 2017.txt', encoding='cp1251').read()\n",
    "t = t.split('\\n')\n",
    "t = np.array(t)"
   ]
  },
  {
   "cell_type": "code",
   "execution_count": 50,
   "metadata": {},
   "outputs": [],
   "source": [
    "arr = []\n",
    "for i in t:\n",
    "    arr.append(np.array(i.split(',')))"
   ]
  },
  {
   "cell_type": "code",
   "execution_count": 51,
   "metadata": {},
   "outputs": [
    {
     "data": {
      "text/plain": [
       "array(['Ид ордера', 'Ид строкм чека', 'Ид клиента', 'Дата начала',\n",
       "       'Дата окончания', 'Номер носителя'], dtype='<U14')"
      ]
     },
     "execution_count": 51,
     "metadata": {},
     "output_type": "execute_result"
    }
   ],
   "source": [
    "arr[0]"
   ]
  },
  {
   "cell_type": "code",
   "execution_count": 54,
   "metadata": {},
   "outputs": [],
   "source": [
    "df = pd.DataFrame(arr[1:], columns=arr[0])"
   ]
  },
  {
   "cell_type": "code",
   "execution_count": 56,
   "metadata": {
    "scrolled": true
   },
   "outputs": [],
   "source": [
    "order_aqv = df"
   ]
  },
  {
   "cell_type": "code",
   "execution_count": 58,
   "metadata": {},
   "outputs": [
    {
     "name": "stderr",
     "output_type": "stream",
     "text": [
      "/Users/yuriysimonov/anaconda3/lib/python3.6/site-packages/pandas/core/generic.py:2127: UserWarning: The spaces in these column names will not be changed. In pandas versions < 0.14, spaces were converted to underscores.\n",
      "  dtype=dtype)\n"
     ]
    }
   ],
   "source": [
    "with sq.connect('isd_base.db') as conn:\n",
    "    order_aqv.to_sql(name='order_aqv',con=conn,schema='aqv', index=False, if_exists='replace')"
   ]
  },
  {
   "cell_type": "markdown",
   "metadata": {},
   "source": [
    "# СТРОКИ ЧЕКА АКВА"
   ]
  },
  {
   "cell_type": "code",
   "execution_count": 68,
   "metadata": {},
   "outputs": [],
   "source": [
    "t = open('data_raw/СТРОКИ ЧЕКА АКВА 2017.txt', encoding='cp1251').read()\n",
    "t = t.split('\\n')\n",
    "t = np.array(t)"
   ]
  },
  {
   "cell_type": "code",
   "execution_count": 69,
   "metadata": {},
   "outputs": [
    {
     "data": {
      "text/plain": [
       "array(['Ид строки чека', 'Ид чека', 'Сумма', 'Услуга'], dtype='<U14')"
      ]
     },
     "execution_count": 69,
     "metadata": {},
     "output_type": "execute_result"
    }
   ],
   "source": [
    "arr = []\n",
    "for i in t:\n",
    "    arr.append(np.array(i.split(',')))\n",
    "arr[0]"
   ]
  },
  {
   "cell_type": "code",
   "execution_count": 75,
   "metadata": {},
   "outputs": [],
   "source": [
    "df = pd.DataFrame(arr[1:])"
   ]
  },
  {
   "cell_type": "code",
   "execution_count": 98,
   "metadata": {
    "scrolled": true
   },
   "outputs": [],
   "source": [
    "df[3] = df[[3,4,5]].apply(lambda x:','.join(x.dropna()), axis=1)"
   ]
  },
  {
   "cell_type": "code",
   "execution_count": 106,
   "metadata": {},
   "outputs": [],
   "source": [
    "df = df[[0,1,2,3]]\n",
    "df.columns = arr[0]"
   ]
  },
  {
   "cell_type": "code",
   "execution_count": 109,
   "metadata": {},
   "outputs": [],
   "source": [
    "bill_row_aqv = df"
   ]
  },
  {
   "cell_type": "code",
   "execution_count": 110,
   "metadata": {},
   "outputs": [
    {
     "name": "stderr",
     "output_type": "stream",
     "text": [
      "/Users/yuriysimonov/anaconda3/lib/python3.6/site-packages/pandas/core/generic.py:2127: UserWarning: The spaces in these column names will not be changed. In pandas versions < 0.14, spaces were converted to underscores.\n",
      "  dtype=dtype)\n"
     ]
    }
   ],
   "source": [
    "with sq.connect('isd_base.db') as conn:\n",
    "    bill_row_aqv.to_sql(name='bill_row_aqv',con=conn,schema='aqv', index=False, if_exists='replace')"
   ]
  },
  {
   "cell_type": "markdown",
   "metadata": {},
   "source": [
    "# СТРОКИ ЧЕКА ГЛК 2017.txt"
   ]
  },
  {
   "cell_type": "code",
   "execution_count": 111,
   "metadata": {},
   "outputs": [],
   "source": [
    "t = open('data_raw/СТРОКИ ЧЕКА ГЛК 2017.txt', encoding='cp1251').read()\n",
    "t = t.split('\\n')\n",
    "t = np.array(t)"
   ]
  },
  {
   "cell_type": "code",
   "execution_count": 112,
   "metadata": {},
   "outputs": [
    {
     "data": {
      "text/plain": [
       "array(['Ид строки чека', 'Ид чека', 'Сумма', 'Услуга'], dtype='<U14')"
      ]
     },
     "execution_count": 112,
     "metadata": {},
     "output_type": "execute_result"
    }
   ],
   "source": [
    "arr = []\n",
    "for i in t:\n",
    "    arr.append(np.array(i.split(',')))\n",
    "arr[0]"
   ]
  },
  {
   "cell_type": "code",
   "execution_count": 113,
   "metadata": {},
   "outputs": [],
   "source": [
    "df = pd.DataFrame(arr[1:])"
   ]
  },
  {
   "cell_type": "code",
   "execution_count": 117,
   "metadata": {},
   "outputs": [],
   "source": [
    "df[3] = df[[3,4]].apply(lambda x:','.join(x.dropna()), axis=1)"
   ]
  },
  {
   "cell_type": "code",
   "execution_count": 118,
   "metadata": {},
   "outputs": [],
   "source": [
    "df = df[[0,1,2,3]]\n",
    "df.columns = arr[0]"
   ]
  },
  {
   "cell_type": "code",
   "execution_count": 119,
   "metadata": {},
   "outputs": [],
   "source": [
    "bill_row_glk = df"
   ]
  },
  {
   "cell_type": "code",
   "execution_count": 120,
   "metadata": {
    "collapsed": true
   },
   "outputs": [
    {
     "name": "stderr",
     "output_type": "stream",
     "text": [
      "/Users/yuriysimonov/anaconda3/lib/python3.6/site-packages/pandas/core/generic.py:2127: UserWarning: The spaces in these column names will not be changed. In pandas versions < 0.14, spaces were converted to underscores.\n",
      "  dtype=dtype)\n"
     ]
    }
   ],
   "source": [
    "with sq.connect('isd_base.db') as conn:\n",
    "    bill_row_glk.to_sql(name='bill_row_glk',con=conn,schema='glk', index=False, if_exists='replace')"
   ]
  },
  {
   "cell_type": "markdown",
   "metadata": {},
   "source": [
    "# ТРАНЗАКЦИИ АКВА 2017.txt"
   ]
  },
  {
   "cell_type": "code",
   "execution_count": 24,
   "metadata": {},
   "outputs": [],
   "source": [
    "files = os.listdir('./data_raw')"
   ]
  },
  {
   "cell_type": "code",
   "execution_count": 52,
   "metadata": {},
   "outputs": [],
   "source": [
    "files_aqv = [i for i in files if re.search(\"ТРАНЗАКЦИИ.*АКВА.*\\.txt\",i)]"
   ]
  },
  {
   "cell_type": "code",
   "execution_count": 82,
   "metadata": {
    "collapsed": true
   },
   "outputs": [
    {
     "name": "stdout",
     "output_type": "stream",
     "text": [
      "['Идентификатор' 'Номер носителя' 'Дата' 'Ид ордера' 'Устройство'\n",
      " 'Событие' 'Дополнение 1 к событию' 'Дополнение 2 к событию'\n",
      " 'Дополнение 3 к событию' 'Дополнение 4 к событию'\n",
      " 'Дополнение 5 к событию']\n",
      "(331354, 12)\n"
     ]
    },
    {
     "name": "stderr",
     "output_type": "stream",
     "text": [
      "/Users/yuriysimonov/anaconda3/lib/python3.6/site-packages/pandas/core/generic.py:2127: UserWarning: The spaces in these column names will not be changed. In pandas versions < 0.14, spaces were converted to underscores.\n",
      "  dtype=dtype)\n"
     ]
    },
    {
     "name": "stdout",
     "output_type": "stream",
     "text": [
      "['Идентификатор' 'Номер носителя' 'Дата' 'Ид ордера' 'Устройство'\n",
      " 'Событие' 'Дополнение 1 к событию' 'Дополнение 2 к событию'\n",
      " 'Дополнение 3 к событию' 'Дополнение 4 к событию'\n",
      " 'Дополнение 5 к событию']\n",
      "(418387, 12)\n",
      "['Идентификатор' 'Номер носителя' 'Дата' 'Ид ордера' 'Устройство'\n",
      " 'Событие' 'Дополнение 1 к событию' 'Дополнение 2 к событию'\n",
      " 'Дополнение 3 к событию' 'Дополнение 4 к событию'\n",
      " 'Дополнение 5 к событию']\n",
      "(392398, 12)\n",
      "['Идентификатор' 'Номер носителя' 'Дата' 'Ид ордера' 'Устройство'\n",
      " 'Событие' 'Дополнение 1 к событию' 'Дополнение 2 к событию'\n",
      " 'Дополнение 3 к событию' 'Дополнение 4 к событию'\n",
      " 'Дополнение 5 к событию']\n",
      "(387659, 12)\n",
      "['Идентификатор' 'Номер носителя' 'Дата' 'Ид ордера' 'Устройство'\n",
      " 'Событие' 'Дополнение 1 к событию' 'Дополнение 2 к событию'\n",
      " 'Дополнение 3 к событию' 'Дополнение 4 к событию'\n",
      " 'Дополнение 5 к событию']\n",
      "(589824, 12)\n",
      "['Идентификатор' 'Номер носителя' 'Дата' 'Ид ордера' 'Устройство'\n",
      " 'Событие' 'Дополнение 1 к событию' 'Дополнение 2 к событию'\n",
      " 'Дополнение 3 к событию' 'Дополнение 4 к событию'\n",
      " 'Дополнение 5 к событию']\n",
      "(402442, 12)\n",
      "['Идентификатор' 'Номер носителя' 'Дата' 'Ид ордера' 'Устройство'\n",
      " 'Событие' 'Дополнение 1 к событию' 'Дополнение 2 к событию'\n",
      " 'Дополнение 3 к событию' 'Дополнение 4 к событию'\n",
      " 'Дополнение 5 к событию']\n",
      "(331330, 12)\n",
      "['Идентификатор' 'Номер носителя' 'Дата' 'Ид ордера' 'Устройство'\n",
      " 'Событие' 'Дополнение 1 к событию' 'Дополнение 2 к событию'\n",
      " 'Дополнение 3 к событию' 'Дополнение 4 к событию'\n",
      " 'Дополнение 5 к событию']\n",
      "(322864, 12)\n",
      "['Идентификатор' 'Номер носителя' 'Дата' 'Ид ордера' 'Устройство'\n",
      " 'Событие' 'Дополнение 1 к событию' 'Дополнение 2 к событию'\n",
      " 'Дополнение 3 к событию' 'Дополнение 4 к событию'\n",
      " 'Дополнение 5 к событию']\n",
      "(137339, 12)\n",
      "['Идентификатор' 'Номер носителя' 'Дата' 'Ид ордера' 'Устройство'\n",
      " 'Событие' 'Дополнение 1 к событию' 'Дополнение 2 к событию'\n",
      " 'Дополнение 3 к событию' 'Дополнение 4 к событию'\n",
      " 'Дополнение 5 к событию']\n",
      "(369155, 12)\n",
      "['Идентификатор' 'Номер носителя' 'Дата' 'Ид ордера' 'Устройство'\n",
      " 'Событие' 'Дополнение 1 к событию' 'Дополнение 2 к событию'\n",
      " 'Дополнение 3 к событию' 'Дополнение 4 к событию'\n",
      " 'Дополнение 5 к событию']\n",
      "(542601, 12)\n",
      "['Идентификатор' 'Номер носителя' 'Дата' 'Ид ордера' 'Устройство'\n",
      " 'Событие' 'Дополнение 1 к событию' 'Дополнение 2 к событию'\n",
      " 'Дополнение 3 к событию' 'Дополнение 4 к событию'\n",
      " 'Дополнение 5 к событию']\n",
      "(350077, 12)\n"
     ]
    }
   ],
   "source": [
    "for fl in files_aqv:\n",
    "    t = open('data_raw/'+fl, encoding='cp1251').read()\n",
    "    t = t.split('\\n')\n",
    "    t = np.array(t)\n",
    "    arr = []\n",
    "    for i in t:\n",
    "        arr.append(np.array(i.split(',')))\n",
    "    print(arr[0])\n",
    "    df = pd.DataFrame(arr[1:])\n",
    "    print(df.shape)\n",
    "    df = df.iloc[:,:11]\n",
    "    df.columns = arr[0]\n",
    "    df['month'] = fl.split()[0][10:]\n",
    "    with sq.connect('isd_base.db') as conn:\n",
    "        transaction_aqv.to_sql(name='transaction_aqv',con=conn,schema='aqv', index=False, if_exists='append')"
   ]
  },
  {
   "cell_type": "code",
   "execution_count": 79,
   "metadata": {},
   "outputs": [],
   "source": [
    "#with sq.connect('isd_base.db') as conn:\n",
    "#    cur = conn.cursor()\n",
    "#    cur.execute('drop table transaction_aqv')\n",
    "#    conn.commit()"
   ]
  },
  {
   "cell_type": "markdown",
   "metadata": {},
   "source": [
    "# ТРАНЗАКЦИИ1 ГЛК 2017.txt"
   ]
  },
  {
   "cell_type": "code",
   "execution_count": 91,
   "metadata": {},
   "outputs": [],
   "source": [
    "files_glk = [i for i in files if re.search(\"ТРАНЗАКЦИИ.*ГЛК.*\\.txt\",i)]"
   ]
  },
  {
   "cell_type": "code",
   "execution_count": 92,
   "metadata": {
    "collapsed": true
   },
   "outputs": [
    {
     "name": "stdout",
     "output_type": "stream",
     "text": [
      "['Идентификатор' 'Номер носителя' 'Дата' 'Ид ордера' 'Устройство'\n",
      " 'Событие' 'Дополнение 1 к событию' 'Дополнение 2 к событию'\n",
      " 'Дополнение 3 к событию' 'Дополнение 4 к событию'\n",
      " 'Дополнение 5 к событию']\n",
      "(1904624, 11)\n"
     ]
    },
    {
     "name": "stderr",
     "output_type": "stream",
     "text": [
      "/Users/yuriysimonov/anaconda3/lib/python3.6/site-packages/pandas/core/generic.py:2127: UserWarning: The spaces in these column names will not be changed. In pandas versions < 0.14, spaces were converted to underscores.\n",
      "  dtype=dtype)\n"
     ]
    },
    {
     "name": "stdout",
     "output_type": "stream",
     "text": [
      "['Идентификатор' 'Номер носителя' 'Дата' 'Ид ордера' 'Устройство'\n",
      " 'Событие' 'Дополнение 1 к событию' 'Дополнение 2 к событию'\n",
      " 'Дополнение 3 к событию' 'Дополнение 4 к событию'\n",
      " 'Дополнение 5 к событию']\n",
      "(391617, 11)\n",
      "['Идентификатор' 'Номер носителя' 'Дата' 'Ид ордера' 'Устройство'\n",
      " 'Событие' 'Дополнение 1 к событию' 'Дополнение 2 к событию'\n",
      " 'Дополнение 3 к событию' 'Дополнение 4 к событию'\n",
      " 'Дополнение 5 к событию']\n",
      "(579381, 11)\n",
      "['Идентификатор' 'Номер носителя' 'Дата' 'Ид ордера' 'Устройство'\n",
      " 'Событие' 'Дополнение 1 к событию' 'Дополнение 2 к событию'\n",
      " 'Дополнение 3 к событию' 'Дополнение 4 к событию'\n",
      " 'Дополнение 5 к событию']\n",
      "(1367458, 11)\n",
      "['Идентификатор' 'Номер носителя' 'Дата' 'Ид ордера' 'Устройство'\n",
      " 'Событие' 'Дополнение 1 к событию' 'Дополнение 2 к событию'\n",
      " 'Дополнение 3 к событию' 'Дополнение 4 к событию'\n",
      " 'Дополнение 5 к событию']\n",
      "(205259, 11)\n",
      "['Идентификатор' 'Номер носителя' 'Дата' 'Ид ордера' 'Устройство'\n",
      " 'Событие' 'Дополнение 1 к событию' 'Дополнение 2 к событию'\n",
      " 'Дополнение 3 к событию' 'Дополнение 4 к событию'\n",
      " 'Дополнение 5 к событию']\n",
      "(954830, 11)\n",
      "['Идентификатор' 'Номер носителя' 'Дата' 'Ид ордера' 'Устройство'\n",
      " 'Событие' 'Дополнение 1 к событию' 'Дополнение 2 к событию'\n",
      " 'Дополнение 3 к событию' 'Дополнение 4 к событию'\n",
      " 'Дополнение 5 к событию']\n",
      "(454061, 11)\n",
      "['Идентификатор' 'Номер носителя' 'Дата' 'Ид ордера' 'Устройство'\n",
      " 'Событие' 'Дополнение 1 к событию' 'Дополнение 2 к событию'\n",
      " 'Дополнение 3 к событию' 'Дополнение 4 к событию'\n",
      " 'Дополнение 5 к событию']\n",
      "(1490123, 11)\n",
      "['Идентификатор' 'Номер носителя' 'Дата' 'Ид ордера' 'Устройство'\n",
      " 'Событие' 'Дополнение 1 к событию' 'Дополнение 2 к событию'\n",
      " 'Дополнение 3 к событию' 'Дополнение 4 к событию'\n",
      " 'Дополнение 5 к событию']\n",
      "(962334, 12)\n",
      "['Идентификатор' 'Номер носителя' 'Дата' 'Ид ордера' 'Устройство'\n",
      " 'Событие' 'Дополнение 1 к событию' 'Дополнение 2 к событию'\n",
      " 'Дополнение 3 к событию' 'Дополнение 4 к событию'\n",
      " 'Дополнение 5 к событию']\n",
      "(1534913, 11)\n",
      "['Идентификатор' 'Номер носителя' 'Дата' 'Ид ордера' 'Устройство'\n",
      " 'Событие' 'Дополнение 1 к событию' 'Дополнение 2 к событию'\n",
      " 'Дополнение 3 к событию' 'Дополнение 4 к событию'\n",
      " 'Дополнение 5 к событию']\n",
      "(709775, 11)\n",
      "['Идентификатор' 'Номер носителя' 'Дата' 'Ид ордера' 'Устройство'\n",
      " 'Событие' 'Дополнение 1 к событию' 'Дополнение 2 к событию'\n",
      " 'Дополнение 3 к событию' 'Дополнение 4 к событию'\n",
      " 'Дополнение 5 к событию']\n",
      "(1336121, 11)\n"
     ]
    }
   ],
   "source": [
    "for fl in files_glk:\n",
    "    t = open('data_raw/'+fl, encoding='cp1251').read()\n",
    "    t = t.split('\\n')\n",
    "    t = np.array(t)\n",
    "    arr = []\n",
    "    for i in t:\n",
    "        arr.append(np.array(i.split(',')))\n",
    "    print(arr[0])\n",
    "    df = pd.DataFrame(arr[1:])\n",
    "    print(df.shape)\n",
    "    df = df.iloc[:,:11]\n",
    "    df.columns = arr[0]\n",
    "    df['month'] = fl.split()[0][10:]\n",
    "    with sq.connect('isd_base.db') as conn:\n",
    "        transaction_aqv.to_sql(name='transaction_glk',con=conn,schema='glk', index=False, if_exists='append')"
   ]
  },
  {
   "cell_type": "code",
   "execution_count": 93,
   "metadata": {},
   "outputs": [
    {
     "name": "stdout",
     "output_type": "stream",
     "text": [
      "   count(*)\n",
      "0   5439031\n"
     ]
    }
   ],
   "source": [
    "with sq.connect('isd_base.db') as conn:\n",
    "    print(pd.read_sql('select count(*) from transaction_glk',conn))"
   ]
  },
  {
   "cell_type": "code",
   "execution_count": null,
   "metadata": {},
   "outputs": [],
   "source": []
  },
  {
   "cell_type": "code",
   "execution_count": null,
   "metadata": {},
   "outputs": [],
   "source": [
    "['transaction_glk','transaction_aqv', 'clients_glk', 'clients_aqv','check_glk','check_aqv',\n",
    " 'order_aqv','order_glk','bill_row_aqv','bill_row_glk',]"
   ]
  },
  {
   "cell_type": "code",
   "execution_count": 85,
   "metadata": {},
   "outputs": [],
   "source": [
    "nn = 'bill_row_glk'\n",
    "sc = nn[-3:]"
   ]
  },
  {
   "cell_type": "code",
   "execution_count": 86,
   "metadata": {},
   "outputs": [],
   "source": [
    "with sq.connect('isd_base.db') as conn:\n",
    "    df = pd.read_sql('select * from {0}'.format(nn),conn)"
   ]
  },
  {
   "cell_type": "code",
   "execution_count": 87,
   "metadata": {},
   "outputs": [
    {
     "data": {
      "text/plain": [
       "Index(['Ид строки чека', 'Ид чека', 'Сумма', 'Услуга'], dtype='object')"
      ]
     },
     "execution_count": 87,
     "metadata": {},
     "output_type": "execute_result"
    }
   ],
   "source": [
    "df.columns"
   ]
  },
  {
   "cell_type": "code",
   "execution_count": 88,
   "metadata": {},
   "outputs": [],
   "source": [
    "bill_row_glk_col = [df.columns, ['BILL_ROW_ID', 'CHECK_ID', 'SUM', 'SERVICE']]"
   ]
  },
  {
   "cell_type": "code",
   "execution_count": 89,
   "metadata": {},
   "outputs": [],
   "source": [
    "df.columns = bill_row_glk_col[1]"
   ]
  },
  {
   "cell_type": "code",
   "execution_count": 90,
   "metadata": {},
   "outputs": [
    {
     "data": {
      "text/plain": [
       "Index(['BILL_ROW_ID', 'CHECK_ID', 'SUM', 'SERVICE'], dtype='object')"
      ]
     },
     "execution_count": 90,
     "metadata": {},
     "output_type": "execute_result"
    }
   ],
   "source": [
    "df.columns"
   ]
  },
  {
   "cell_type": "code",
   "execution_count": 91,
   "metadata": {},
   "outputs": [],
   "source": [
    "with sq.connect('isd_base.db') as conn:\n",
    "    df.to_sql(name=nn,con=conn,schema=sc, index=False, if_exists='replace')"
   ]
  },
  {
   "cell_type": "code",
   "execution_count": 92,
   "metadata": {},
   "outputs": [],
   "source": [
    "columns_df = {'bill_row_aqv_col':bill_row_aqv_col,\n",
    "           'bill_row_glk_col':bill_row_glk_col,\n",
    "           'order_glk_col':order_glk_col,\n",
    "           'order_aqv_col':order_aqv_col,\n",
    "           'check_aqv_col':check_aqv_col,\n",
    "           'check_glk_col':check_glk_col,\n",
    "           'clients_aqv_col':clients_aqv_col,\n",
    "           'clients_glk_col':clients_glk_col,\n",
    "           'transaction_aqv_col':transaction_aqv_col,\n",
    "           'transaction_glk_col':transaction_glk_col\n",
    "          }"
   ]
  },
  {
   "cell_type": "code",
   "execution_count": 93,
   "metadata": {},
   "outputs": [],
   "source": [
    "import pickle"
   ]
  },
  {
   "cell_type": "code",
   "execution_count": 95,
   "metadata": {},
   "outputs": [],
   "source": [
    "pickle.dump(columns_df,open('columns_df.pcl','wb'))"
   ]
  },
  {
   "cell_type": "code",
   "execution_count": null,
   "metadata": {},
   "outputs": [],
   "source": [
    "columns_df"
   ]
  },
  {
   "cell_type": "code",
   "execution_count": null,
   "metadata": {},
   "outputs": [],
   "source": [
    "# bill_row_aqv_col = [df.columns, ['BILL_ROW_ID', 'CHECK_ID', 'SUM', 'SERVICE']]"
   ]
  },
  {
   "cell_type": "code",
   "execution_count": null,
   "metadata": {},
   "outputs": [],
   "source": [
    "# bill_row_glk_col = [df.columns, ['BILL_ROW_ID', 'CHECK_ID', 'SUM', 'SERVICE']]"
   ]
  },
  {
   "cell_type": "code",
   "execution_count": null,
   "metadata": {},
   "outputs": [],
   "source": [
    "# order_glk_col = [df.columns, ['ORDER_ID', 'BILL_ROW_ID', 'CLIENT_ID', 'START_DATE', 'END_DATE', 'CARD_NUMBER']]"
   ]
  },
  {
   "cell_type": "code",
   "execution_count": null,
   "metadata": {},
   "outputs": [],
   "source": [
    "# order_aqv_col = [df.columns, ['ORDER_ID', 'BILL_ROW_ID', 'CLIENT_ID', 'START_DATE', 'END_DATE', 'CARD_NUMBER']]"
   ]
  },
  {
   "cell_type": "code",
   "execution_count": null,
   "metadata": {},
   "outputs": [],
   "source": [
    "# check_aqv_col = [df.columns, ['CHECK_ID', 'PAYMENT_TYPE', 'CHECK_DATE', 'CASH_BOX','CASHIER']]"
   ]
  },
  {
   "cell_type": "code",
   "execution_count": null,
   "metadata": {},
   "outputs": [],
   "source": [
    "# check_glk_col = [df.columns, ['CHECK_ID', 'PAYMENT_TYPE', 'CHECK_DATE', 'CASH_BOX','CASHIER']]"
   ]
  },
  {
   "cell_type": "code",
   "execution_count": null,
   "metadata": {},
   "outputs": [],
   "source": [
    "# clients_aqv_col = [df.columns, ['CLIENT_ID', 'LAST_NAME', 'FIRST_NAME', 'MIDDLE_NAME', 'BIRTH_DATE', 'SEX']]"
   ]
  },
  {
   "cell_type": "code",
   "execution_count": null,
   "metadata": {},
   "outputs": [],
   "source": [
    "# clients_glk_col = [df.columns, ['CLIENT_ID', 'LAST_NAME', 'FIRST_NAME', 'MIDDLE_NAME', 'BIRTH_DATE', 'SEX']]"
   ]
  },
  {
   "cell_type": "code",
   "execution_count": 26,
   "metadata": {},
   "outputs": [],
   "source": [
    "# transaction_aqv_col = [df.columns, ['TRANSACTION_ID', 'CARD_NUMBER', 'DATE', 'ORDER_ID', 'DEVICE', 'EVENT',\n",
    "#                                    'ADDITION_1', 'ADDITION_2', 'ADDITION_3', 'ADDITION_4', 'ADDITION_5']]"
   ]
  },
  {
   "cell_type": "code",
   "execution_count": 15,
   "metadata": {},
   "outputs": [],
   "source": [
    "# transaction_glk_col = [df.columns, ['TRANSACTION_ID', 'CARD_NUMBER', 'DATE', 'ORDER_ID', 'DEVICE', 'EVENT',\n",
    "#                                    'ADDITION_1', 'ADDITION_2', 'ADDITION_3', 'ADDITION_4', 'ADDITION_5']]"
   ]
  }
 ],
 "metadata": {
  "kernelspec": {
   "display_name": "Python 3",
   "language": "python",
   "name": "python3"
  },
  "language_info": {
   "codemirror_mode": {
    "name": "ipython",
    "version": 3
   },
   "file_extension": ".py",
   "mimetype": "text/x-python",
   "name": "python",
   "nbconvert_exporter": "python",
   "pygments_lexer": "ipython3",
   "version": "3.6.5"
  }
 },
 "nbformat": 4,
 "nbformat_minor": 2
}
