{
 "cells": [
  {
   "cell_type": "code",
   "execution_count": 1,
   "metadata": {
    "ExecuteTime": {
     "end_time": "2018-09-22T19:29:05.173698Z",
     "start_time": "2018-09-22T19:29:03.591934Z"
    },
    "collapsed": true
   },
   "outputs": [
    {
     "name": "stderr",
     "output_type": "stream",
     "text": [
      "/Users/yuriysimonov/anaconda3/lib/python3.6/site-packages/pandas_profiling/base.py:20: UserWarning:\n",
      "\n",
      "\n",
      "This call to matplotlib.use() has no effect because the backend has already\n",
      "been chosen; matplotlib.use() must be called *before* pylab, matplotlib.pyplot,\n",
      "or matplotlib.backends is imported for the first time.\n",
      "\n",
      "The backend was *originally* set to 'module://ipykernel.pylab.backend_inline' by the following code:\n",
      "  File \"/Users/yuriysimonov/anaconda3/lib/python3.6/runpy.py\", line 193, in _run_module_as_main\n",
      "    \"__main__\", mod_spec)\n",
      "  File \"/Users/yuriysimonov/anaconda3/lib/python3.6/runpy.py\", line 85, in _run_code\n",
      "    exec(code, run_globals)\n",
      "  File \"/Users/yuriysimonov/anaconda3/lib/python3.6/site-packages/ipykernel_launcher.py\", line 16, in <module>\n",
      "    app.launch_new_instance()\n",
      "  File \"/Users/yuriysimonov/anaconda3/lib/python3.6/site-packages/traitlets/config/application.py\", line 658, in launch_instance\n",
      "    app.start()\n",
      "  File \"/Users/yuriysimonov/anaconda3/lib/python3.6/site-packages/ipykernel/kernelapp.py\", line 486, in start\n",
      "    self.io_loop.start()\n",
      "  File \"/Users/yuriysimonov/anaconda3/lib/python3.6/site-packages/tornado/platform/asyncio.py\", line 127, in start\n",
      "    self.asyncio_loop.run_forever()\n",
      "  File \"/Users/yuriysimonov/anaconda3/lib/python3.6/asyncio/base_events.py\", line 422, in run_forever\n",
      "    self._run_once()\n",
      "  File \"/Users/yuriysimonov/anaconda3/lib/python3.6/asyncio/base_events.py\", line 1432, in _run_once\n",
      "    handle._run()\n",
      "  File \"/Users/yuriysimonov/anaconda3/lib/python3.6/asyncio/events.py\", line 145, in _run\n",
      "    self._callback(*self._args)\n",
      "  File \"/Users/yuriysimonov/anaconda3/lib/python3.6/site-packages/tornado/platform/asyncio.py\", line 117, in _handle_events\n",
      "    handler_func(fileobj, events)\n",
      "  File \"/Users/yuriysimonov/anaconda3/lib/python3.6/site-packages/tornado/stack_context.py\", line 276, in null_wrapper\n",
      "    return fn(*args, **kwargs)\n",
      "  File \"/Users/yuriysimonov/anaconda3/lib/python3.6/site-packages/zmq/eventloop/zmqstream.py\", line 450, in _handle_events\n",
      "    self._handle_recv()\n",
      "  File \"/Users/yuriysimonov/anaconda3/lib/python3.6/site-packages/zmq/eventloop/zmqstream.py\", line 480, in _handle_recv\n",
      "    self._run_callback(callback, msg)\n",
      "  File \"/Users/yuriysimonov/anaconda3/lib/python3.6/site-packages/zmq/eventloop/zmqstream.py\", line 432, in _run_callback\n",
      "    callback(*args, **kwargs)\n",
      "  File \"/Users/yuriysimonov/anaconda3/lib/python3.6/site-packages/tornado/stack_context.py\", line 276, in null_wrapper\n",
      "    return fn(*args, **kwargs)\n",
      "  File \"/Users/yuriysimonov/anaconda3/lib/python3.6/site-packages/ipykernel/kernelbase.py\", line 283, in dispatcher\n",
      "    return self.dispatch_shell(stream, msg)\n",
      "  File \"/Users/yuriysimonov/anaconda3/lib/python3.6/site-packages/ipykernel/kernelbase.py\", line 233, in dispatch_shell\n",
      "    handler(stream, idents, msg)\n",
      "  File \"/Users/yuriysimonov/anaconda3/lib/python3.6/site-packages/ipykernel/kernelbase.py\", line 399, in execute_request\n",
      "    user_expressions, allow_stdin)\n",
      "  File \"/Users/yuriysimonov/anaconda3/lib/python3.6/site-packages/ipykernel/ipkernel.py\", line 208, in do_execute\n",
      "    res = shell.run_cell(code, store_history=store_history, silent=silent)\n",
      "  File \"/Users/yuriysimonov/anaconda3/lib/python3.6/site-packages/ipykernel/zmqshell.py\", line 537, in run_cell\n",
      "    return super(ZMQInteractiveShell, self).run_cell(*args, **kwargs)\n",
      "  File \"/Users/yuriysimonov/anaconda3/lib/python3.6/site-packages/IPython/core/interactiveshell.py\", line 2662, in run_cell\n",
      "    raw_cell, store_history, silent, shell_futures)\n",
      "  File \"/Users/yuriysimonov/anaconda3/lib/python3.6/site-packages/IPython/core/interactiveshell.py\", line 2785, in _run_cell\n",
      "    interactivity=interactivity, compiler=compiler, result=result)\n",
      "  File \"/Users/yuriysimonov/anaconda3/lib/python3.6/site-packages/IPython/core/interactiveshell.py\", line 2903, in run_ast_nodes\n",
      "    if self.run_code(code, result):\n",
      "  File \"/Users/yuriysimonov/anaconda3/lib/python3.6/site-packages/IPython/core/interactiveshell.py\", line 2963, in run_code\n",
      "    exec(code_obj, self.user_global_ns, self.user_ns)\n",
      "  File \"<ipython-input-1-783f6e032062>\", line 4, in <module>\n",
      "    import seaborn as sns\n",
      "  File \"/Users/yuriysimonov/anaconda3/lib/python3.6/site-packages/seaborn/__init__.py\", line 6, in <module>\n",
      "    from .rcmod import *\n",
      "  File \"/Users/yuriysimonov/anaconda3/lib/python3.6/site-packages/seaborn/rcmod.py\", line 5, in <module>\n",
      "    from . import palettes, _orig_rc_params\n",
      "  File \"/Users/yuriysimonov/anaconda3/lib/python3.6/site-packages/seaborn/palettes.py\", line 12, in <module>\n",
      "    from .utils import desaturate, set_hls_values, get_color_cycle\n",
      "  File \"/Users/yuriysimonov/anaconda3/lib/python3.6/site-packages/seaborn/utils.py\", line 11, in <module>\n",
      "    import matplotlib.pyplot as plt\n",
      "  File \"/Users/yuriysimonov/anaconda3/lib/python3.6/site-packages/matplotlib/pyplot.py\", line 71, in <module>\n",
      "    from matplotlib.backends import pylab_setup\n",
      "  File \"/Users/yuriysimonov/anaconda3/lib/python3.6/site-packages/matplotlib/backends/__init__.py\", line 16, in <module>\n",
      "    line for line in traceback.format_stack()\n",
      "\n",
      "\n",
      "\n"
     ]
    },
    {
     "data": {
      "text/html": [
       "<script>requirejs.config({paths: { 'plotly': ['https://cdn.plot.ly/plotly-latest.min']},});if(!window.Plotly) {{require(['plotly'],function(plotly) {window.Plotly=plotly;});}}</script>"
      ]
     },
     "metadata": {},
     "output_type": "execute_result"
    }
   ],
   "source": [
    "import plotly.offline as pyo\n",
    "import plotly.graph_objs as go\n",
    "import plotly.plotly as py\n",
    "import seaborn as sns\n",
    "import sqlite3 as sq\n",
    "import pandas as pd\n",
    "import numpy as np\n",
    "import dash\n",
    "import dash_core_components as dcc\n",
    "import dash_html_components as html\n",
    "import pandas_profiling as pp\n",
    "import datetime as dt\n",
    "import plotly\n",
    "%matplotlib inline\n",
    "pyo.init_notebook_mode(connected=True)"
   ]
  },
  {
   "cell_type": "code",
   "execution_count": 2,
   "metadata": {
    "ExecuteTime": {
     "end_time": "2018-09-22T19:29:05.178470Z",
     "start_time": "2018-09-22T19:29:05.175779Z"
    }
   },
   "outputs": [],
   "source": [
    "import sqlite3 as sq\n",
    "import pandas as pd"
   ]
  },
  {
   "cell_type": "code",
   "execution_count": 7,
   "metadata": {
    "ExecuteTime": {
     "end_time": "2018-09-22T19:30:06.738415Z",
     "start_time": "2018-09-22T19:30:06.734739Z"
    }
   },
   "outputs": [],
   "source": [
    "day_w_dict = {0:'пн',1:'вт',2:'ср',3:'чт',4:'пт',5:'сб',6:'вс'}\n",
    "day_m_dict = {'January':0, 'February':1, 'March':2, 'April':3, 'May':4, 'June':5, 'July':6,\n",
    "              'August':7, 'September':8, 'October':9, 'November':10, 'December':11}"
   ]
  },
  {
   "cell_type": "code",
   "execution_count": 19,
   "metadata": {
    "ExecuteTime": {
     "end_time": "2018-09-22T19:36:57.979915Z",
     "start_time": "2018-09-22T19:36:57.974895Z"
    },
    "code_folding": [
     0.0,
     8.0
    ]
   },
   "outputs": [],
   "source": [
    "def age_taker(x):\n",
    "    if x is None:\n",
    "        return np.nan\n",
    "    elif np.round((dt.datetime.now() - dt.datetime.strptime(x[:10],'%d.%m.%Y')).days/365,2)<0 or \\\n",
    "    np.round((dt.datetime.now() - dt.datetime.strptime(x[:10],'%d.%m.%Y')).days/365,2)>100:\n",
    "        return np.nan\n",
    "    else:\n",
    "        return np.round((dt.datetime.now() - dt.datetime.strptime(x[:10],'%d.%m.%Y')).days/365,2)\n",
    "def age_grouper(x):\n",
    "    if x>=0:\n",
    "        dict_age = {0: '0-4', 1: '4-14', 2: '14-21',\n",
    "                    3: '21-35', 4: '35-50', 5: '50-'}\n",
    "        return dict_age[int((x > 4)+(x > 14)+(x > 21)+(x > 35)+(x > 50))]\n",
    "    else:\n",
    "        return 'Не указан'"
   ]
  },
  {
   "cell_type": "markdown",
   "metadata": {
    "heading_collapsed": true
   },
   "source": [
    "# Finance"
   ]
  },
  {
   "cell_type": "markdown",
   "metadata": {
    "heading_collapsed": true,
    "hidden": true
   },
   "source": [
    "## Aqv"
   ]
  },
  {
   "cell_type": "code",
   "execution_count": 3,
   "metadata": {
    "ExecuteTime": {
     "end_time": "2018-09-22T19:29:10.635002Z",
     "start_time": "2018-09-22T19:29:10.630435Z"
    },
    "hidden": true
   },
   "outputs": [],
   "source": [
    "rerquest_aqv = '''select\n",
    "   ca.CHECK_DATE\n",
    "  ,bra.SUM\n",
    "  ,oa.ORDER_ID,\n",
    "  ca.CHECK_ID\n",
    "from check_aqv ca\n",
    "inner join bill_row_aqv bra on ca.CHECK_ID = bra.CHECK_ID\n",
    "inner join order_aqv oa on oa.BILL_ROW_ID = bra.BILL_ROW_ID'''"
   ]
  },
  {
   "cell_type": "code",
   "execution_count": 4,
   "metadata": {
    "ExecuteTime": {
     "end_time": "2018-09-22T19:29:15.735023Z",
     "start_time": "2018-09-22T19:29:11.640447Z"
    },
    "hidden": true
   },
   "outputs": [],
   "source": [
    "with sq.connect('isd_base.db') as conn:\n",
    "    finance_aqv = pd.read_sql(rerquest_aqv, conn)"
   ]
  },
  {
   "cell_type": "code",
   "execution_count": 5,
   "metadata": {
    "ExecuteTime": {
     "end_time": "2018-09-22T19:30:06.588029Z",
     "start_time": "2018-09-22T19:29:15.736780Z"
    },
    "hidden": true
   },
   "outputs": [],
   "source": [
    "# correct types\n",
    "finance_aqv['CHECK_DATE'] = pd.to_datetime(finance_aqv['CHECK_DATE'])\n",
    "finance_aqv['SUM'] = pd.to_numeric(finance_aqv['SUM'])"
   ]
  },
  {
   "cell_type": "code",
   "execution_count": 6,
   "metadata": {
    "ExecuteTime": {
     "end_time": "2018-09-22T19:30:06.731723Z",
     "start_time": "2018-09-22T19:30:06.590223Z"
    },
    "hidden": true
   },
   "outputs": [],
   "source": [
    "finance_aqv['D_N'] = finance_aqv.CHECK_DATE.dt.dayofweek\n",
    "finance_aqv['M'] = finance_aqv.CHECK_DATE.dt.month_name()\n",
    "finance_aqv['H'] = finance_aqv.CHECK_DATE.dt.hour"
   ]
  },
  {
   "cell_type": "code",
   "execution_count": 8,
   "metadata": {
    "ExecuteTime": {
     "end_time": "2018-09-22T19:30:06.830118Z",
     "start_time": "2018-09-22T19:30:06.746331Z"
    },
    "hidden": true
   },
   "outputs": [],
   "source": [
    "finance_aqv['D'] = finance_aqv.D_N.map(day_w_dict)\n",
    "finance_aqv['M_N'] = finance_aqv.M.map(day_m_dict)"
   ]
  },
  {
   "cell_type": "code",
   "execution_count": 9,
   "metadata": {
    "ExecuteTime": {
     "end_time": "2018-09-22T19:30:10.313398Z",
     "start_time": "2018-09-22T19:30:09.839685Z"
    },
    "hidden": true
   },
   "outputs": [],
   "source": [
    "finance_aqv.to_pickle('finance_aqv.pcl')"
   ]
  },
  {
   "cell_type": "markdown",
   "metadata": {
    "heading_collapsed": true,
    "hidden": true
   },
   "source": [
    "## glk"
   ]
  },
  {
   "cell_type": "code",
   "execution_count": 10,
   "metadata": {
    "ExecuteTime": {
     "end_time": "2018-09-22T19:30:26.453463Z",
     "start_time": "2018-09-22T19:30:26.449896Z"
    },
    "hidden": true
   },
   "outputs": [],
   "source": [
    "rerquest_glk = '''select\n",
    "   ca.CHECK_DATE\n",
    "  ,bra.SUM\n",
    "  ,oa.ORDER_ID,\n",
    "  ca.CHECK_ID\n",
    "from check_glk ca\n",
    "inner join bill_row_glk bra on ca.CHECK_ID = bra.CHECK_ID\n",
    "inner join order_glk oa on oa.BILL_ROW_ID = bra.BILL_ROW_ID'''"
   ]
  },
  {
   "cell_type": "code",
   "execution_count": 11,
   "metadata": {
    "ExecuteTime": {
     "end_time": "2018-09-22T19:30:45.626694Z",
     "start_time": "2018-09-22T19:30:30.451340Z"
    },
    "hidden": true
   },
   "outputs": [
    {
     "name": "stdout",
     "output_type": "stream",
     "text": [
      "CPU times: user 11.2 s, sys: 3.25 s, total: 14.5 s\n",
      "Wall time: 15.2 s\n"
     ]
    }
   ],
   "source": [
    "with sq.connect('isd_base.db') as conn:\n",
    "    finance_glk = pd.read_sql(rerquest_glk, conn)"
   ]
  },
  {
   "cell_type": "code",
   "execution_count": 12,
   "metadata": {
    "ExecuteTime": {
     "end_time": "2018-09-22T19:34:30.130849Z",
     "start_time": "2018-09-22T19:30:51.888886Z"
    },
    "hidden": true
   },
   "outputs": [],
   "source": [
    "# correct types\n",
    "finance_glk['CHECK_DATE'] = pd.to_datetime(finance_glk['CHECK_DATE'])\n",
    "finance_glk['SUM'] = pd.to_numeric(finance_glk['SUM'])\n",
    "\n",
    "finance_glk['D_N'] = finance_glk.CHECK_DATE.dt.dayofweek\n",
    "finance_glk['M'] = finance_glk.CHECK_DATE.dt.month_name()\n",
    "finance_glk['H'] = finance_glk.CHECK_DATE.dt.hour\n",
    "\n",
    "finance_glk['D'] = finance_glk.D_N.map(day_w_dict)\n",
    "finance_glk['M_N'] = finance_glk.M.map(day_m_dict)"
   ]
  },
  {
   "cell_type": "code",
   "execution_count": 13,
   "metadata": {
    "ExecuteTime": {
     "end_time": "2018-09-22T19:34:32.680047Z",
     "start_time": "2018-09-22T19:34:30.133169Z"
    },
    "hidden": true
   },
   "outputs": [],
   "source": [
    "finance_glk.to_pickle('finance_glk.pcl')"
   ]
  },
  {
   "cell_type": "markdown",
   "metadata": {
    "heading_collapsed": true
   },
   "source": [
    "# Social"
   ]
  },
  {
   "cell_type": "markdown",
   "metadata": {
    "heading_collapsed": true,
    "hidden": true
   },
   "source": [
    "## aqv"
   ]
  },
  {
   "cell_type": "code",
   "execution_count": 14,
   "metadata": {
    "ExecuteTime": {
     "end_time": "2018-09-22T19:34:32.685340Z",
     "start_time": "2018-09-22T19:34:32.682313Z"
    },
    "hidden": true
   },
   "outputs": [],
   "source": [
    "rerquest_soc_aqv = '''select \n",
    "   oa.ORDER_ID\n",
    "  ,oa.START_DATE\n",
    "  ,oa.END_DATE\n",
    "  ,cla.SEX\n",
    "  ,bra.SUM\n",
    "  ,cla.BIRTH_DATE\n",
    "  ,ca.CHECK_DATE\n",
    "from order_aqv oa \n",
    "left join clients_aqv cla on oa.CLIENT_ID = cla.CLIENT_ID\n",
    "left join bill_row_aqv bra on oa.BILL_ROW_ID = bra.BILL_ROW_ID\n",
    "left join check_aqv ca on ca.CHECK_ID = bra.CHECK_ID'''"
   ]
  },
  {
   "cell_type": "code",
   "execution_count": 15,
   "metadata": {
    "ExecuteTime": {
     "end_time": "2018-09-22T19:34:43.116984Z",
     "start_time": "2018-09-22T19:34:32.687445Z"
    },
    "hidden": true
   },
   "outputs": [],
   "source": [
    "with sq.connect('isd_base.db') as conn:\n",
    "    social_aqv = pd.read_sql(rerquest_soc_aqv, conn)"
   ]
  },
  {
   "cell_type": "code",
   "execution_count": 16,
   "metadata": {
    "ExecuteTime": {
     "end_time": "2018-09-22T19:36:57.648689Z",
     "start_time": "2018-09-22T19:34:43.119805Z"
    },
    "hidden": true
   },
   "outputs": [],
   "source": [
    "# correct types\n",
    "social_aqv['CHECK_DATE'] = pd.to_datetime(social_aqv['CHECK_DATE'])\n",
    "social_aqv['START_DATE'] = pd.to_datetime(social_aqv['START_DATE'])\n",
    "social_aqv['END_DATE'] = pd.to_datetime(social_aqv['END_DATE'])\n",
    "social_aqv['SUM'] = pd.to_numeric(social_aqv['SUM'])"
   ]
  },
  {
   "cell_type": "code",
   "execution_count": 17,
   "metadata": {
    "ExecuteTime": {
     "end_time": "2018-09-22T19:36:57.832274Z",
     "start_time": "2018-09-22T19:36:57.651065Z"
    },
    "hidden": true
   },
   "outputs": [],
   "source": [
    "social_aqv['D_N'] = social_aqv.CHECK_DATE.dt.dayofweek\n",
    "social_aqv['M'] = social_aqv.CHECK_DATE.dt.month_name()\n",
    "social_aqv['H'] = social_aqv.CHECK_DATE.dt.hour"
   ]
  },
  {
   "cell_type": "code",
   "execution_count": 18,
   "metadata": {
    "ExecuteTime": {
     "end_time": "2018-09-22T19:36:57.973101Z",
     "start_time": "2018-09-22T19:36:57.834397Z"
    },
    "hidden": true
   },
   "outputs": [],
   "source": [
    "social_aqv['D'] = social_aqv.D_N.map(day_w_dict)\n",
    "social_aqv['M_N'] = social_aqv.M.map(day_m_dict)"
   ]
  },
  {
   "cell_type": "code",
   "execution_count": 20,
   "metadata": {
    "ExecuteTime": {
     "end_time": "2018-09-22T19:37:09.357365Z",
     "start_time": "2018-09-22T19:36:57.982490Z"
    },
    "hidden": true,
    "scrolled": true
   },
   "outputs": [],
   "source": [
    "social_aqv['AGE'] = social_aqv['BIRTH_DATE'].replace('',None).map(age_taker)\n",
    "social_aqv['SESSION_TERM'] = (social_aqv.END_DATE - social_aqv.START_DATE).map(lambda x: x.seconds/3600)\n",
    "social_aqv['SEX'] = social_aqv['SEX'].map({'1':'М','2':'Ж',None:'Не указан'})\n",
    "social_aqv['AGE_GROUP'] = social_aqv['AGE'].map(age_grouper)"
   ]
  },
  {
   "cell_type": "code",
   "execution_count": 21,
   "metadata": {
    "ExecuteTime": {
     "end_time": "2018-09-22T19:37:09.758128Z",
     "start_time": "2018-09-22T19:37:09.360190Z"
    },
    "hidden": true
   },
   "outputs": [],
   "source": [
    "social_aqv.to_pickle('social_aqv.pcl')"
   ]
  },
  {
   "cell_type": "markdown",
   "metadata": {
    "heading_collapsed": true,
    "hidden": true
   },
   "source": [
    "## glk"
   ]
  },
  {
   "cell_type": "code",
   "execution_count": 22,
   "metadata": {
    "ExecuteTime": {
     "end_time": "2018-09-22T19:37:09.763484Z",
     "start_time": "2018-09-22T19:37:09.759692Z"
    },
    "hidden": true
   },
   "outputs": [],
   "source": [
    "rerquest_soc_glk = '''select \n",
    "   oa.ORDER_ID\n",
    "  ,oa.START_DATE\n",
    "  ,oa.END_DATE\n",
    "  ,cla.SEX\n",
    "  ,bra.SUM\n",
    "  ,cla.BIRTH_DATE\n",
    "  ,ca.CHECK_DATE\n",
    "from order_glk oa \n",
    "left join clients_glk cla on oa.CLIENT_ID = cla.CLIENT_ID\n",
    "left join bill_row_glk bra on oa.BILL_ROW_ID = bra.BILL_ROW_ID\n",
    "left join check_glk ca on ca.CHECK_ID = bra.CHECK_ID'''"
   ]
  },
  {
   "cell_type": "code",
   "execution_count": 23,
   "metadata": {
    "ExecuteTime": {
     "end_time": "2018-09-22T19:37:32.147006Z",
     "start_time": "2018-09-22T19:37:09.765712Z"
    },
    "hidden": true
   },
   "outputs": [],
   "source": [
    "with sq.connect('isd_base.db') as conn:\n",
    "    social_glk = pd.read_sql(rerquest_soc_glk, conn)"
   ]
  },
  {
   "cell_type": "code",
   "execution_count": 24,
   "metadata": {
    "ExecuteTime": {
     "end_time": "2018-09-22T20:10:08.662958Z",
     "start_time": "2018-09-22T19:37:32.153858Z"
    },
    "hidden": true
   },
   "outputs": [],
   "source": [
    "# correct types\n",
    "social_glk['CHECK_DATE'] = pd.to_datetime(social_glk['CHECK_DATE'])\n",
    "social_glk['START_DATE'] = pd.to_datetime(social_glk['START_DATE'])\n",
    "social_glk['END_DATE'] = pd.to_datetime(social_glk['END_DATE'])\n",
    "social_glk['SUM'] = pd.to_numeric(social_glk['SUM'])"
   ]
  },
  {
   "cell_type": "code",
   "execution_count": 25,
   "metadata": {
    "ExecuteTime": {
     "end_time": "2018-09-22T20:10:10.005596Z",
     "start_time": "2018-09-22T20:10:08.665619Z"
    },
    "hidden": true
   },
   "outputs": [],
   "source": [
    "social_glk['D_N'] = social_glk.CHECK_DATE.dt.dayofweek\n",
    "social_glk['M'] = social_glk.CHECK_DATE.dt.month_name()\n",
    "social_glk['H'] = social_glk.CHECK_DATE.dt.hour\n",
    "social_glk['D'] = social_glk.D_N.map(day_w_dict)\n",
    "social_glk['M_N'] = social_glk.M.map(day_m_dict)"
   ]
  },
  {
   "cell_type": "code",
   "execution_count": 26,
   "metadata": {
    "ExecuteTime": {
     "end_time": "2018-09-22T20:10:29.018250Z",
     "start_time": "2018-09-22T20:10:10.009737Z"
    },
    "hidden": true
   },
   "outputs": [],
   "source": [
    "social_glk['AGE'] = social_glk['BIRTH_DATE'].replace('',None).map(age_taker)\n",
    "social_glk['SESSION_TERM'] = (social_glk.END_DATE - social_glk.START_DATE).map(lambda x: x.seconds/3600)\n",
    "social_glk['SEX'] = social_glk['SEX'].map({'1':'М','2':'Ж',None:'Не указан'})"
   ]
  },
  {
   "cell_type": "code",
   "execution_count": 27,
   "metadata": {
    "ExecuteTime": {
     "end_time": "2018-09-22T20:10:29.423011Z",
     "start_time": "2018-09-22T20:10:29.020708Z"
    },
    "hidden": true
   },
   "outputs": [],
   "source": [
    "social_glk['AGE_GROUP'] = social_glk['AGE'].map(age_grouper)"
   ]
  },
  {
   "cell_type": "code",
   "execution_count": 28,
   "metadata": {
    "ExecuteTime": {
     "end_time": "2018-09-22T20:10:31.564848Z",
     "start_time": "2018-09-22T20:10:29.425006Z"
    },
    "hidden": true
   },
   "outputs": [],
   "source": [
    "social_glk.to_pickle('social_glk.pcl')"
   ]
  },
  {
   "cell_type": "markdown",
   "metadata": {},
   "source": [
    "# Tech"
   ]
  },
  {
   "cell_type": "markdown",
   "metadata": {},
   "source": [
    "## aqv"
   ]
  },
  {
   "cell_type": "code",
   "execution_count": 29,
   "metadata": {
    "ExecuteTime": {
     "end_time": "2018-09-22T20:11:58.201551Z",
     "start_time": "2018-09-22T20:11:58.198155Z"
    }
   },
   "outputs": [],
   "source": [
    "request_tech_aqv = \"\"\"select \n",
    "  DEVICE,\n",
    "  DATE,\n",
    "  EVENT\n",
    "from transaction_aqv\n",
    " where DEVICE like '%Турникет%'\"\"\""
   ]
  },
  {
   "cell_type": "code",
   "execution_count": 32,
   "metadata": {
    "ExecuteTime": {
     "end_time": "2018-09-22T20:12:16.606970Z",
     "start_time": "2018-09-22T20:12:08.988898Z"
    }
   },
   "outputs": [],
   "source": [
    "with sq.connect('isd_base.db') as conn:\n",
    "    tech_aqv = pd.read_sql(request_tech_aqv, conn)"
   ]
  },
  {
   "cell_type": "code",
   "execution_count": 33,
   "metadata": {
    "ExecuteTime": {
     "end_time": "2018-09-22T20:15:18.634458Z",
     "start_time": "2018-09-22T20:12:16.610768Z"
    }
   },
   "outputs": [],
   "source": [
    "# correct types\n",
    "tech_aqv['DATE'] = pd.to_datetime(tech_aqv['DATE'])"
   ]
  },
  {
   "cell_type": "code",
   "execution_count": 34,
   "metadata": {
    "ExecuteTime": {
     "end_time": "2018-09-22T20:15:19.358394Z",
     "start_time": "2018-09-22T20:15:18.639066Z"
    }
   },
   "outputs": [],
   "source": [
    "tech_aqv['D_N'] = tech_aqv.DATE.dt.dayofweek\n",
    "tech_aqv['M'] = tech_aqv.DATE.dt.month_name()\n",
    "tech_aqv['H'] = tech_aqv.DATE.dt.hour"
   ]
  },
  {
   "cell_type": "code",
   "execution_count": 35,
   "metadata": {
    "ExecuteTime": {
     "end_time": "2018-09-22T20:15:19.663296Z",
     "start_time": "2018-09-22T20:15:19.360916Z"
    }
   },
   "outputs": [],
   "source": [
    "tech_aqv['D'] = tech_aqv.D_N.map(day_w_dict)\n",
    "tech_aqv['M_N'] = tech_aqv.M.map(day_m_dict)"
   ]
  },
  {
   "cell_type": "code",
   "execution_count": 36,
   "metadata": {
    "ExecuteTime": {
     "end_time": "2018-09-22T20:15:22.295618Z",
     "start_time": "2018-09-22T20:15:19.665457Z"
    }
   },
   "outputs": [],
   "source": [
    "tech_aqv.to_pickle('tech_aqv.pcl')"
   ]
  },
  {
   "cell_type": "markdown",
   "metadata": {},
   "source": [
    "## glk"
   ]
  },
  {
   "cell_type": "code",
   "execution_count": 37,
   "metadata": {
    "ExecuteTime": {
     "end_time": "2018-09-22T20:15:22.301744Z",
     "start_time": "2018-09-22T20:15:22.298413Z"
    }
   },
   "outputs": [],
   "source": [
    "request_tech_glk = \"\"\"select \n",
    "  DEVICE,\n",
    "  DATE,\n",
    "  EVENT\n",
    "from transaction_glk\n",
    " where DEVICE like '%Турникет%'\"\"\""
   ]
  },
  {
   "cell_type": "code",
   "execution_count": 38,
   "metadata": {
    "ExecuteTime": {
     "end_time": "2018-09-22T20:16:33.181930Z",
     "start_time": "2018-09-22T20:15:22.304163Z"
    }
   },
   "outputs": [],
   "source": [
    "with sq.connect('isd_base.db') as conn:\n",
    "    tech_glk = pd.read_sql(request_tech_glk, conn)"
   ]
  },
  {
   "cell_type": "code",
   "execution_count": 39,
   "metadata": {
    "ExecuteTime": {
     "end_time": "2018-09-22T20:34:54.245041Z",
     "start_time": "2018-09-22T20:16:33.189951Z"
    }
   },
   "outputs": [],
   "source": [
    "# correct types\n",
    "tech_glk['DATE'] = pd.to_datetime(tech_glk['DATE'])"
   ]
  },
  {
   "cell_type": "code",
   "execution_count": 40,
   "metadata": {
    "ExecuteTime": {
     "end_time": "2018-09-22T20:34:57.555946Z",
     "start_time": "2018-09-22T20:34:54.271999Z"
    }
   },
   "outputs": [
    {
     "name": "stdout",
     "output_type": "stream",
     "text": [
      "CPU times: user 2.68 s, sys: 365 ms, total: 3.04 s\n",
      "Wall time: 3.2 s\n"
     ]
    }
   ],
   "source": [
    "%%time\n",
    "tech_glk['D_N'] = tech_glk.DATE.dt.dayofweek\n",
    "tech_glk['M'] = tech_glk.DATE.dt.month_name()\n",
    "tech_glk['H'] = tech_glk.DATE.dt.hour"
   ]
  },
  {
   "cell_type": "code",
   "execution_count": 41,
   "metadata": {
    "ExecuteTime": {
     "end_time": "2018-09-22T20:34:59.061593Z",
     "start_time": "2018-09-22T20:34:57.562563Z"
    }
   },
   "outputs": [],
   "source": [
    "tech_glk['D'] = tech_glk.D_N.map(day_w_dict)\n",
    "tech_glk['M_N'] = tech_glk.M.map(day_m_dict)"
   ]
  },
  {
   "cell_type": "code",
   "execution_count": 42,
   "metadata": {
    "ExecuteTime": {
     "end_time": "2018-09-22T20:35:43.881222Z",
     "start_time": "2018-09-22T20:34:59.065122Z"
    }
   },
   "outputs": [],
   "source": [
    "tech_glk.to_pickle('tech_glk.pcl')"
   ]
  },
  {
   "cell_type": "code",
   "execution_count": null,
   "metadata": {},
   "outputs": [],
   "source": []
  }
 ],
 "metadata": {
  "hide_input": false,
  "kernelspec": {
   "display_name": "Python 3",
   "language": "python",
   "name": "python3"
  },
  "language_info": {
   "codemirror_mode": {
    "name": "ipython",
    "version": 3
   },
   "file_extension": ".py",
   "mimetype": "text/x-python",
   "name": "python",
   "nbconvert_exporter": "python",
   "pygments_lexer": "ipython3",
   "version": "3.6.5"
  },
  "toc": {
   "base_numbering": 1.0,
   "nav_menu": {},
   "number_sections": true,
   "sideBar": true,
   "skip_h1_title": false,
   "title_cell": "Table of Contents",
   "title_sidebar": "Contents",
   "toc_cell": false,
   "toc_position": {},
   "toc_section_display": true,
   "toc_window_display": false
  }
 },
 "nbformat": 4,
 "nbformat_minor": 2
}
